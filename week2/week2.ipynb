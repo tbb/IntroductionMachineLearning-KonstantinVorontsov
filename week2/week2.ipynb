{
 "cells": [
  {
   "cell_type": "markdown",
   "metadata": {},
   "source": [
    "# Воронцов. Введение в машинное обучение\n",
    "### Неделя 2.\n",
    "#### Задание 1"
   ]
  },
  {
   "cell_type": "code",
   "execution_count": 1,
   "metadata": {},
   "outputs": [],
   "source": [
    "from sklearn.neighbors import KNeighborsClassifier\n",
    "from sklearn.model_selection import KFold, cross_val_score\n",
    "from sklearn.preprocessing import scale\n",
    "\n",
    "import pandas as pd"
   ]
  },
  {
   "cell_type": "code",
   "execution_count": 2,
   "metadata": {},
   "outputs": [
    {
     "data": {
      "text/html": [
       "<div>\n",
       "<style>\n",
       "    .dataframe thead tr:only-child th {\n",
       "        text-align: right;\n",
       "    }\n",
       "\n",
       "    .dataframe thead th {\n",
       "        text-align: left;\n",
       "    }\n",
       "\n",
       "    .dataframe tbody tr th {\n",
       "        vertical-align: top;\n",
       "    }\n",
       "</style>\n",
       "<table border=\"1\" class=\"dataframe\">\n",
       "  <thead>\n",
       "    <tr style=\"text-align: right;\">\n",
       "      <th></th>\n",
       "      <th>0</th>\n",
       "      <th>1</th>\n",
       "      <th>2</th>\n",
       "      <th>3</th>\n",
       "      <th>4</th>\n",
       "      <th>5</th>\n",
       "      <th>6</th>\n",
       "      <th>7</th>\n",
       "      <th>8</th>\n",
       "      <th>9</th>\n",
       "      <th>10</th>\n",
       "      <th>11</th>\n",
       "      <th>12</th>\n",
       "      <th>13</th>\n",
       "    </tr>\n",
       "  </thead>\n",
       "  <tbody>\n",
       "    <tr>\n",
       "      <th>0</th>\n",
       "      <td>1</td>\n",
       "      <td>14.23</td>\n",
       "      <td>1.71</td>\n",
       "      <td>2.43</td>\n",
       "      <td>15.6</td>\n",
       "      <td>127</td>\n",
       "      <td>2.80</td>\n",
       "      <td>3.06</td>\n",
       "      <td>0.28</td>\n",
       "      <td>2.29</td>\n",
       "      <td>5.64</td>\n",
       "      <td>1.04</td>\n",
       "      <td>3.92</td>\n",
       "      <td>1065</td>\n",
       "    </tr>\n",
       "    <tr>\n",
       "      <th>1</th>\n",
       "      <td>1</td>\n",
       "      <td>13.20</td>\n",
       "      <td>1.78</td>\n",
       "      <td>2.14</td>\n",
       "      <td>11.2</td>\n",
       "      <td>100</td>\n",
       "      <td>2.65</td>\n",
       "      <td>2.76</td>\n",
       "      <td>0.26</td>\n",
       "      <td>1.28</td>\n",
       "      <td>4.38</td>\n",
       "      <td>1.05</td>\n",
       "      <td>3.40</td>\n",
       "      <td>1050</td>\n",
       "    </tr>\n",
       "    <tr>\n",
       "      <th>2</th>\n",
       "      <td>1</td>\n",
       "      <td>13.16</td>\n",
       "      <td>2.36</td>\n",
       "      <td>2.67</td>\n",
       "      <td>18.6</td>\n",
       "      <td>101</td>\n",
       "      <td>2.80</td>\n",
       "      <td>3.24</td>\n",
       "      <td>0.30</td>\n",
       "      <td>2.81</td>\n",
       "      <td>5.68</td>\n",
       "      <td>1.03</td>\n",
       "      <td>3.17</td>\n",
       "      <td>1185</td>\n",
       "    </tr>\n",
       "    <tr>\n",
       "      <th>3</th>\n",
       "      <td>1</td>\n",
       "      <td>14.37</td>\n",
       "      <td>1.95</td>\n",
       "      <td>2.50</td>\n",
       "      <td>16.8</td>\n",
       "      <td>113</td>\n",
       "      <td>3.85</td>\n",
       "      <td>3.49</td>\n",
       "      <td>0.24</td>\n",
       "      <td>2.18</td>\n",
       "      <td>7.80</td>\n",
       "      <td>0.86</td>\n",
       "      <td>3.45</td>\n",
       "      <td>1480</td>\n",
       "    </tr>\n",
       "    <tr>\n",
       "      <th>4</th>\n",
       "      <td>1</td>\n",
       "      <td>13.24</td>\n",
       "      <td>2.59</td>\n",
       "      <td>2.87</td>\n",
       "      <td>21.0</td>\n",
       "      <td>118</td>\n",
       "      <td>2.80</td>\n",
       "      <td>2.69</td>\n",
       "      <td>0.39</td>\n",
       "      <td>1.82</td>\n",
       "      <td>4.32</td>\n",
       "      <td>1.04</td>\n",
       "      <td>2.93</td>\n",
       "      <td>735</td>\n",
       "    </tr>\n",
       "  </tbody>\n",
       "</table>\n",
       "</div>"
      ],
      "text/plain": [
       "   0      1     2     3     4    5     6     7     8     9     10    11    12  \\\n",
       "0   1  14.23  1.71  2.43  15.6  127  2.80  3.06  0.28  2.29  5.64  1.04  3.92   \n",
       "1   1  13.20  1.78  2.14  11.2  100  2.65  2.76  0.26  1.28  4.38  1.05  3.40   \n",
       "2   1  13.16  2.36  2.67  18.6  101  2.80  3.24  0.30  2.81  5.68  1.03  3.17   \n",
       "3   1  14.37  1.95  2.50  16.8  113  3.85  3.49  0.24  2.18  7.80  0.86  3.45   \n",
       "4   1  13.24  2.59  2.87  21.0  118  2.80  2.69  0.39  1.82  4.32  1.04  2.93   \n",
       "\n",
       "     13  \n",
       "0  1065  \n",
       "1  1050  \n",
       "2  1185  \n",
       "3  1480  \n",
       "4   735  "
      ]
     },
     "execution_count": 2,
     "metadata": {},
     "output_type": "execute_result"
    }
   ],
   "source": [
    "df = pd.read_csv('wine.csv', header=None)\n",
    "df.head()"
   ]
  },
  {
   "cell_type": "code",
   "execution_count": 3,
   "metadata": {},
   "outputs": [],
   "source": [
    "X, y = df.drop(0, axis=1), df[0]"
   ]
  },
  {
   "cell_type": "code",
   "execution_count": 11,
   "metadata": {},
   "outputs": [
    {
     "name": "stdout",
     "output_type": "stream",
     "text": [
      "k =  1, score 0.73\n",
      "k =  2, score 0.66\n",
      "k =  3, score 0.71\n",
      "k =  4, score 0.66\n",
      "k =  5, score 0.67\n",
      "k =  6, score 0.67\n",
      "k =  7, score 0.68\n",
      "k =  8, score 0.68\n",
      "k =  9, score 0.7\n",
      "k = 10, score 0.68\n",
      "k = 11, score 0.7\n",
      "k = 12, score 0.7\n",
      "k = 13, score 0.69\n",
      "k = 14, score 0.68\n",
      "k = 15, score 0.7\n",
      "k = 16, score 0.68\n",
      "k = 17, score 0.7\n",
      "k = 18, score 0.68\n",
      "k = 19, score 0.68\n",
      "k = 20, score 0.69\n",
      "k = 21, score 0.7\n",
      "k = 22, score 0.7\n",
      "k = 23, score 0.7\n",
      "k = 24, score 0.71\n",
      "k = 25, score 0.7\n",
      "k = 26, score 0.7\n",
      "k = 27, score 0.7\n",
      "k = 28, score 0.71\n",
      "k = 29, score 0.71\n",
      "k = 30, score 0.71\n",
      "k = 31, score 0.69\n",
      "k = 32, score 0.71\n",
      "k = 33, score 0.71\n",
      "k = 34, score 0.72\n",
      "k = 35, score 0.72\n",
      "k = 36, score 0.71\n",
      "k = 37, score 0.71\n",
      "k = 38, score 0.71\n",
      "k = 39, score 0.71\n",
      "k = 40, score 0.71\n",
      "k = 41, score 0.71\n",
      "k = 42, score 0.71\n",
      "k = 43, score 0.71\n",
      "k = 44, score 0.71\n",
      "k = 45, score 0.71\n",
      "k = 46, score 0.71\n",
      "k = 47, score 0.7\n",
      "k = 48, score 0.72\n",
      "k = 49, score 0.7\n",
      "k = 50, score 0.71\n"
     ]
    }
   ],
   "source": [
    "kf = KFold(n_splits=5, shuffle=True, random_state=42)\n",
    "res = []\n",
    "for k in range(1, 51):\n",
    "    clf = KNeighborsClassifier(n_neighbors=k)\n",
    "    m = cross_val_score(clf, X, y, cv=kf, scoring='accuracy').mean()\n",
    "    res.append((k, m))\n",
    "    print(f'k = {k:2}, score {m:.2}')"
   ]
  },
  {
   "cell_type": "code",
   "execution_count": 12,
   "metadata": {},
   "outputs": [],
   "source": [
    "answ1, answ2 = max(res, key=lambda x: x[1])"
   ]
  },
  {
   "cell_type": "markdown",
   "metadata": {},
   "source": [
    "## Ответ на вопросы 1 и 2"
   ]
  },
  {
   "cell_type": "code",
   "execution_count": 13,
   "metadata": {},
   "outputs": [],
   "source": [
    "with open('1-1', 'w', encoding='utf-8') as f:\n",
    "    f.write(f'{answ1}')\n",
    "with open('1-2', 'w', encoding='utf-8') as f:\n",
    "    f.write(f'{answ2:.2}')"
   ]
  },
  {
   "cell_type": "code",
   "execution_count": 14,
   "metadata": {},
   "outputs": [
    {
     "name": "stdout",
     "output_type": "stream",
     "text": [
      "0.73"
     ]
    }
   ],
   "source": [
    "!cat 1-2"
   ]
  },
  {
   "cell_type": "code",
   "execution_count": 16,
   "metadata": {},
   "outputs": [],
   "source": [
    "X_scaled = scale(X)"
   ]
  },
  {
   "cell_type": "code",
   "execution_count": 19,
   "metadata": {},
   "outputs": [
    {
     "name": "stdout",
     "output_type": "stream",
     "text": [
      "k =  1, score 0.944\n",
      "k =  2, score 0.9329\n",
      "k =  3, score 0.9551\n",
      "k =  4, score 0.9383\n",
      "k =  5, score 0.9494\n",
      "k =  6, score 0.9495\n",
      "k =  7, score 0.9495\n",
      "k =  8, score 0.9552\n",
      "k =  9, score 0.9608\n",
      "k = 10, score 0.9608\n",
      "k = 11, score 0.961\n",
      "k = 12, score 0.9552\n",
      "k = 13, score 0.9495\n",
      "k = 14, score 0.9663\n",
      "k = 15, score 0.9721\n",
      "k = 16, score 0.9721\n",
      "k = 17, score 0.9665\n",
      "k = 18, score 0.9665\n",
      "k = 19, score 0.9554\n",
      "k = 20, score 0.9665\n",
      "k = 21, score 0.961\n",
      "k = 22, score 0.9665\n",
      "k = 23, score 0.961\n",
      "k = 24, score 0.9552\n",
      "k = 25, score 0.9552\n",
      "k = 26, score 0.9608\n",
      "k = 27, score 0.9552\n",
      "k = 28, score 0.9663\n",
      "k = 29, score 0.9776\n",
      "k = 30, score 0.9608\n",
      "k = 31, score 0.9552\n",
      "k = 32, score 0.9608\n",
      "k = 33, score 0.9663\n",
      "k = 34, score 0.9663\n",
      "k = 35, score 0.9608\n",
      "k = 36, score 0.9608\n",
      "k = 37, score 0.9552\n",
      "k = 38, score 0.9608\n",
      "k = 39, score 0.9608\n",
      "k = 40, score 0.9608\n",
      "k = 41, score 0.9663\n",
      "k = 42, score 0.9608\n",
      "k = 43, score 0.9663\n",
      "k = 44, score 0.9606\n",
      "k = 45, score 0.9663\n",
      "k = 46, score 0.9495\n",
      "k = 47, score 0.9551\n",
      "k = 48, score 0.9495\n",
      "k = 49, score 0.9551\n",
      "k = 50, score 0.9606\n"
     ]
    }
   ],
   "source": [
    "kf = KFold(n_splits=5, shuffle=True, random_state=42)\n",
    "res = []\n",
    "for k in range(1, 51):\n",
    "    clf = KNeighborsClassifier(n_neighbors=k)\n",
    "    m = cross_val_score(clf, X_scaled, y, cv=kf, scoring='accuracy').mean()\n",
    "    res.append((k, m))\n",
    "    print(f'k = {k:2}, score {m:.4}')"
   ]
  },
  {
   "cell_type": "code",
   "execution_count": 20,
   "metadata": {},
   "outputs": [
    {
     "data": {
      "text/plain": [
       "(29, 0.9776190476190475)"
      ]
     },
     "execution_count": 20,
     "metadata": {},
     "output_type": "execute_result"
    }
   ],
   "source": [
    "answ3, answ4 = max(res, key=lambda x: x[1])\n",
    "answ3, answ4"
   ]
  },
  {
   "cell_type": "markdown",
   "metadata": {},
   "source": [
    "## Ответ на вопросы 3 и 4"
   ]
  },
  {
   "cell_type": "code",
   "execution_count": 21,
   "metadata": {},
   "outputs": [],
   "source": [
    "with open('1-3', 'w', encoding='utf-8') as f:\n",
    "    f.write(f'{answ3}')\n",
    "with open('1-4', 'w', encoding='utf-8') as f:\n",
    "    f.write(f'{answ4:.2}')"
   ]
  },
  {
   "cell_type": "code",
   "execution_count": 22,
   "metadata": {},
   "outputs": [
    {
     "name": "stdout",
     "output_type": "stream",
     "text": [
      "0.98"
     ]
    }
   ],
   "source": [
    "!cat 1-4"
   ]
  },
  {
   "cell_type": "markdown",
   "metadata": {},
   "source": [
    "### Неделя 2.\n",
    "#### Задание 2"
   ]
  },
  {
   "cell_type": "code",
   "execution_count": 23,
   "metadata": {},
   "outputs": [],
   "source": [
    "from sklearn import datasets\n",
    "from sklearn.model_selection import KFold, cross_val_score\n",
    "from sklearn.preprocessing import scale\n",
    "from sklearn.neighbors import KNeighborsRegressor\n",
    "\n",
    "import numpy as np\n",
    "import pandas as pd"
   ]
  },
  {
   "cell_type": "code",
   "execution_count": 29,
   "metadata": {},
   "outputs": [],
   "source": [
    "boston = datasets.load_boston()\n",
    "X = pd.DataFrame(boston['data'])\n",
    "y = pd.DataFrame(boston['target'])"
   ]
  },
  {
   "cell_type": "code",
   "execution_count": 32,
   "metadata": {},
   "outputs": [],
   "source": [
    "X_scaled = scale(X)"
   ]
  },
  {
   "cell_type": "code",
   "execution_count": 39,
   "metadata": {},
   "outputs": [
    {
     "name": "stdout",
     "output_type": "stream",
     "text": [
      "p =   1.0, score -16.05\n",
      "p = 1.045, score -16.4\n",
      "p =  1.09, score -16.37\n",
      "p = 1.136, score -16.44\n",
      "p = 1.181, score -16.46\n",
      "p = 1.226, score -16.51\n",
      "p = 1.271, score -16.62\n",
      "p = 1.317, score -16.8\n",
      "p = 1.362, score -16.84\n",
      "p = 1.407, score -17.09\n",
      "p = 1.452, score -17.12\n",
      "p = 1.497, score -16.95\n",
      "p = 1.543, score -17.09\n",
      "p = 1.588, score -16.79\n",
      "p = 1.633, score -16.97\n",
      "p = 1.678, score -17.01\n",
      "p = 1.724, score -17.15\n",
      "p = 1.769, score -17.17\n",
      "p = 1.814, score -17.2\n",
      "p = 1.859, score -17.32\n",
      "p = 1.905, score -17.41\n",
      "p =  1.95, score -17.38\n",
      "p = 1.995, score -17.32\n",
      "p =  2.04, score -17.36\n",
      "p = 2.085, score -17.39\n",
      "p = 2.131, score -17.66\n",
      "p = 2.176, score -17.57\n",
      "p = 2.221, score -17.33\n",
      "p = 2.266, score -17.52\n",
      "p = 2.312, score -17.57\n",
      "p = 2.357, score -17.58\n",
      "p = 2.402, score -17.62\n",
      "p = 2.447, score -17.62\n",
      "p = 2.492, score -17.31\n",
      "p = 2.538, score -17.35\n",
      "p = 2.583, score -17.51\n",
      "p = 2.628, score -17.5\n",
      "p = 2.673, score -17.5\n",
      "p = 2.719, score -17.56\n",
      "p = 2.764, score -17.56\n",
      "p = 2.809, score -17.65\n",
      "p = 2.854, score -17.64\n",
      "p = 2.899, score -17.68\n",
      "p = 2.945, score -17.92\n",
      "p =  2.99, score -17.98\n",
      "p = 3.035, score -18.13\n",
      "p =  3.08, score -18.18\n",
      "p = 3.126, score -18.25\n",
      "p = 3.171, score -18.31\n",
      "p = 3.216, score -18.32\n",
      "p = 3.261, score -18.32\n",
      "p = 3.307, score -18.25\n",
      "p = 3.352, score -18.55\n",
      "p = 3.397, score -18.5\n",
      "p = 3.442, score -18.61\n",
      "p = 3.487, score -18.6\n",
      "p = 3.533, score -18.89\n",
      "p = 3.578, score -18.93\n",
      "p = 3.623, score -18.95\n",
      "p = 3.668, score -18.97\n",
      "p = 3.714, score -18.95\n",
      "p = 3.759, score -18.95\n",
      "p = 3.804, score -19.06\n",
      "p = 3.849, score -19.1\n",
      "p = 3.894, score -19.09\n",
      "p =  3.94, score -19.12\n",
      "p = 3.985, score -19.21\n",
      "p =  4.03, score -19.21\n",
      "p = 4.075, score -19.17\n",
      "p = 4.121, score -19.14\n",
      "p = 4.166, score -19.17\n",
      "p = 4.211, score -19.11\n",
      "p = 4.256, score -19.33\n",
      "p = 4.302, score -19.34\n",
      "p = 4.347, score -19.34\n",
      "p = 4.392, score -19.35\n",
      "p = 4.437, score -19.25\n",
      "p = 4.482, score -19.24\n",
      "p = 4.528, score -19.29\n",
      "p = 4.573, score -19.43\n",
      "p = 4.618, score -19.49\n",
      "p = 4.663, score -19.49\n",
      "p = 4.709, score -19.6\n",
      "p = 4.754, score -19.7\n",
      "p = 4.799, score -19.71\n",
      "p = 4.844, score -19.75\n",
      "p = 4.889, score -19.74\n",
      "p = 4.935, score -19.75\n",
      "p =  4.98, score -19.78\n",
      "p = 5.025, score -19.69\n",
      "p =  5.07, score -19.7\n",
      "p = 5.116, score -19.66\n",
      "p = 5.161, score -19.69\n",
      "p = 5.206, score -19.68\n",
      "p = 5.251, score -19.71\n",
      "p = 5.296, score -19.68\n",
      "p = 5.342, score -19.68\n",
      "p = 5.387, score -19.71\n",
      "p = 5.432, score -19.71\n",
      "p = 5.477, score -19.75\n",
      "p = 5.523, score -19.91\n",
      "p = 5.568, score -19.89\n",
      "p = 5.613, score -19.91\n",
      "p = 5.658, score -19.94\n",
      "p = 5.704, score -19.94\n",
      "p = 5.749, score -19.93\n",
      "p = 5.794, score -20.14\n",
      "p = 5.839, score -20.32\n",
      "p = 5.884, score -20.33\n",
      "p =  5.93, score -20.2\n",
      "p = 5.975, score -20.15\n",
      "p =  6.02, score -20.16\n",
      "p = 6.065, score -20.15\n",
      "p = 6.111, score -20.1\n",
      "p = 6.156, score -20.07\n",
      "p = 6.201, score -20.08\n",
      "p = 6.246, score -20.08\n",
      "p = 6.291, score -20.08\n",
      "p = 6.337, score -20.57\n",
      "p = 6.382, score -20.58\n",
      "p = 6.427, score -20.58\n",
      "p = 6.472, score -20.63\n",
      "p = 6.518, score -20.61\n",
      "p = 6.563, score -20.62\n",
      "p = 6.608, score -20.61\n",
      "p = 6.653, score -20.61\n",
      "p = 6.698, score -20.61\n",
      "p = 6.744, score -20.62\n",
      "p = 6.789, score -20.62\n",
      "p = 6.834, score -20.62\n",
      "p = 6.879, score -20.62\n",
      "p = 6.925, score -20.62\n",
      "p =  6.97, score -20.67\n",
      "p = 7.015, score -20.68\n",
      "p =  7.06, score -20.68\n",
      "p = 7.106, score -20.69\n",
      "p = 7.151, score -20.68\n",
      "p = 7.196, score -20.68\n",
      "p = 7.241, score -20.88\n",
      "p = 7.286, score -20.98\n",
      "p = 7.332, score -20.99\n",
      "p = 7.377, score -20.99\n",
      "p = 7.422, score -21.01\n",
      "p = 7.467, score -21.01\n",
      "p = 7.513, score -21.01\n",
      "p = 7.558, score -21.01\n",
      "p = 7.603, score -21.01\n",
      "p = 7.648, score -21.01\n",
      "p = 7.693, score -21.03\n",
      "p = 7.739, score -21.02\n",
      "p = 7.784, score -21.02\n",
      "p = 7.829, score -21.06\n",
      "p = 7.874, score -21.06\n",
      "p =  7.92, score -21.06\n",
      "p = 7.965, score -21.07\n",
      "p =  8.01, score -21.06\n",
      "p = 8.055, score -21.07\n",
      "p = 8.101, score -21.02\n",
      "p = 8.146, score -20.95\n",
      "p = 8.191, score -20.95\n",
      "p = 8.236, score -20.89\n",
      "p = 8.281, score -20.89\n",
      "p = 8.327, score -21.0\n",
      "p = 8.372, score -21.01\n",
      "p = 8.417, score -21.01\n",
      "p = 8.462, score -21.01\n",
      "p = 8.508, score -21.01\n",
      "p = 8.553, score -21.01\n",
      "p = 8.598, score -21.01\n",
      "p = 8.643, score -21.01\n",
      "p = 8.688, score -21.01\n",
      "p = 8.734, score -21.0\n",
      "p = 8.779, score -21.0\n",
      "p = 8.824, score -21.0\n",
      "p = 8.869, score -21.0\n",
      "p = 8.915, score -21.0\n",
      "p =  8.96, score -21.0\n",
      "p = 9.005, score -21.01\n",
      "p =  9.05, score -21.02\n",
      "p = 9.095, score -21.07\n",
      "p = 9.141, score -21.07\n",
      "p = 9.186, score -21.07\n",
      "p = 9.231, score -21.08\n",
      "p = 9.276, score -21.08\n",
      "p = 9.322, score -21.1\n",
      "p = 9.367, score -21.1\n",
      "p = 9.412, score -21.11\n",
      "p = 9.457, score -21.11\n",
      "p = 9.503, score -21.11\n",
      "p = 9.548, score -21.06\n",
      "p = 9.593, score -21.06\n",
      "p = 9.638, score -21.07\n",
      "p = 9.683, score -21.06\n",
      "p = 9.729, score -21.06\n",
      "p = 9.774, score -21.06\n",
      "p = 9.819, score -21.06\n",
      "p = 9.864, score -21.06\n",
      "p =  9.91, score -21.06\n",
      "p = 9.955, score -21.07\n",
      "p =  10.0, score -21.09\n",
      "CPU times: user 12.9 s, sys: 257 ms, total: 13.2 s\n",
      "Wall time: 13.6 s\n"
     ]
    }
   ],
   "source": [
    "%%time\n",
    "kf = KFold(n_splits=5, shuffle=True, random_state=42)\n",
    "res = []\n",
    "for p in np.linspace(1, 10, 200):\n",
    "    clf = KNeighborsRegressor(n_neighbors=5, weights='distance', p=p)\n",
    "    m = cross_val_score(clf, X_scaled, y, cv=kf, scoring='neg_mean_squared_error').mean()\n",
    "    res.append((p, m))\n",
    "    print(f'p = {p:5.4}, score {m:.4}')"
   ]
  },
  {
   "cell_type": "code",
   "execution_count": 41,
   "metadata": {},
   "outputs": [],
   "source": [
    "ans, _ = max(res, key=lambda x: x[1])"
   ]
  },
  {
   "cell_type": "code",
   "execution_count": 47,
   "metadata": {},
   "outputs": [],
   "source": [
    "with open('2-1', 'w', encoding='utf-8') as f:\n",
    "    f.write(f'{ans}')"
   ]
  },
  {
   "cell_type": "code",
   "execution_count": 48,
   "metadata": {},
   "outputs": [
    {
     "name": "stdout",
     "output_type": "stream",
     "text": [
      "1.0"
     ]
    }
   ],
   "source": [
    "!cat 2-1"
   ]
  },
  {
   "cell_type": "markdown",
   "metadata": {},
   "source": [
    "### Неделя 2.\n",
    "#### Задание 3"
   ]
  },
  {
   "cell_type": "code",
   "execution_count": 58,
   "metadata": {},
   "outputs": [],
   "source": [
    "from sklearn.linear_model import Perceptron\n",
    "from sklearn.metrics import accuracy_score\n",
    "from sklearn.preprocessing import StandardScaler\n",
    "\n",
    "import pandas as pd"
   ]
  },
  {
   "cell_type": "code",
   "execution_count": 53,
   "metadata": {},
   "outputs": [],
   "source": [
    "train = pd.read_csv('perceptron-train.csv', header=None)\n",
    "X_train = train.drop(0, axis=1)\n",
    "y_train = train[0]"
   ]
  },
  {
   "cell_type": "code",
   "execution_count": 55,
   "metadata": {},
   "outputs": [],
   "source": [
    "test = pd.read_csv('perceptron-test.csv', header=None)\n",
    "X_test = test.drop(0, axis=1)\n",
    "y_test = test[0]"
   ]
  },
  {
   "cell_type": "code",
   "execution_count": 73,
   "metadata": {},
   "outputs": [
    {
     "name": "stderr",
     "output_type": "stream",
     "text": [
      "/Users/tbb/Projects/python/jupyter/lib/python3.6/site-packages/sklearn/linear_model/stochastic_gradient.py:84: FutureWarning: max_iter and tol parameters have been added in <class 'sklearn.linear_model.perceptron.Perceptron'> in 0.19. If both are left unset, they default to max_iter=5 and tol=None. If tol is not None, max_iter defaults to max_iter=1000. From 0.21, default max_iter will be 1000, and default tol will be 1e-3.\n",
      "  \"and default tol will be 1e-3.\" % type(self), FutureWarning)\n"
     ]
    },
    {
     "data": {
      "text/plain": [
       "0.65500000000000003"
      ]
     },
     "execution_count": 73,
     "metadata": {},
     "output_type": "execute_result"
    }
   ],
   "source": [
    "clf = Perceptron(random_state=241)\n",
    "clf.fit(X_train, y_train)\n",
    "score1 = accuracy_score(y_test, clf.predict(X_test))\n",
    "score1"
   ]
  },
  {
   "cell_type": "code",
   "execution_count": 66,
   "metadata": {},
   "outputs": [],
   "source": [
    "stdScaler = StandardScaler()\n",
    "X_train_scaled = stdScaler.fit_transform(X_train)\n",
    "X_test_scaled = stdScaler.transform(X_test)"
   ]
  },
  {
   "cell_type": "code",
   "execution_count": 74,
   "metadata": {},
   "outputs": [
    {
     "name": "stderr",
     "output_type": "stream",
     "text": [
      "/Users/tbb/Projects/python/jupyter/lib/python3.6/site-packages/sklearn/linear_model/stochastic_gradient.py:84: FutureWarning: max_iter and tol parameters have been added in <class 'sklearn.linear_model.perceptron.Perceptron'> in 0.19. If both are left unset, they default to max_iter=5 and tol=None. If tol is not None, max_iter defaults to max_iter=1000. From 0.21, default max_iter will be 1000, and default tol will be 1e-3.\n",
      "  \"and default tol will be 1e-3.\" % type(self), FutureWarning)\n"
     ]
    },
    {
     "data": {
      "text/plain": [
       "0.84499999999999997"
      ]
     },
     "execution_count": 74,
     "metadata": {},
     "output_type": "execute_result"
    }
   ],
   "source": [
    "clf = Perceptron(random_state=241)\n",
    "clf.fit(X_train_scaled, y_train)\n",
    "score2 = accuracy_score(y_test, clf.predict(X_test_scaled))\n",
    "score2"
   ]
  },
  {
   "cell_type": "code",
   "execution_count": 70,
   "metadata": {},
   "outputs": [
    {
     "data": {
      "text/plain": [
       "'0.19'"
      ]
     },
     "execution_count": 70,
     "metadata": {},
     "output_type": "execute_result"
    }
   ],
   "source": [
    "f'{(score2 - score1):.3}'"
   ]
  },
  {
   "cell_type": "code",
   "execution_count": 71,
   "metadata": {},
   "outputs": [],
   "source": [
    "with open('3-1', 'w', encoding='utf-8') as f:\n",
    "    f.write(f'{(score2 - score1):.3}')"
   ]
  },
  {
   "cell_type": "code",
   "execution_count": 72,
   "metadata": {},
   "outputs": [
    {
     "name": "stdout",
     "output_type": "stream",
     "text": [
      "0.19"
     ]
    }
   ],
   "source": [
    "!cat 3-1"
   ]
  },
  {
   "cell_type": "code",
   "execution_count": null,
   "metadata": {},
   "outputs": [],
   "source": []
  }
 ],
 "metadata": {
  "kernelspec": {
   "display_name": "Python 3",
   "language": "python",
   "name": "python3"
  },
  "language_info": {
   "codemirror_mode": {
    "name": "ipython",
    "version": 3
   },
   "file_extension": ".py",
   "mimetype": "text/x-python",
   "name": "python",
   "nbconvert_exporter": "python",
   "pygments_lexer": "ipython3",
   "version": "3.6.2"
  }
 },
 "nbformat": 4,
 "nbformat_minor": 2
}
